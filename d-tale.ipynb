{
 "cells": [
  {
   "cell_type": "markdown",
   "metadata": {},
   "source": [
    "# Instructions\n",
    "\n",
    "Once the Codespace has finished setting up:\n",
    "\n",
    "- Click \"Select Kernel\" in the top-right\n",
    "- Click \"Python Environments\" and then \"Python 3.xx.xx\"\n",
    "- Run the cell below\n",
    "- Wait a few seconds for the server to launch\n",
    "- Press Ctrl+' to bring up your terminal\n",
    "- Click the \"Ports\" tab\n",
    "- Hover over the "
   ]
  },
  {
   "cell_type": "code",
   "execution_count": 2,
   "metadata": {},
   "outputs": [
    {
     "data": {
      "text/html": [
       "\n",
       "        <iframe\n",
       "            width=\"100%\"\n",
       "            height=\"475\"\n",
       "            src=\"/user/codespace/proxy/40000/dtale/iframe/2\"\n",
       "            frameborder=\"0\"\n",
       "            allowfullscreen\n",
       "            \n",
       "        ></iframe>\n",
       "        "
      ],
      "text/plain": [
       "<IPython.lib.display.IFrame at 0x7906df29a440>"
      ]
     },
     "metadata": {},
     "output_type": "display_data"
    },
    {
     "data": {
      "text/plain": []
     },
     "execution_count": 2,
     "metadata": {},
     "output_type": "execute_result"
    }
   ],
   "source": [
    "import dtale\n",
    "import pandas as pd\n",
    "import dtale.app as dtale_app\n",
    "\n",
    "dtale_app.JUPYTER_SERVER_PROXY = True\n",
    "url = \"https://srhdpeuwpubsa.blob.core.windows.net/whdh/COVID/WHO-COVID-19-global-data.csv\"\n",
    "df = pd.read_csv(url)\n",
    "\n",
    "europe_country_codes = [\n",
    "    'BE', 'BG', 'CZ', 'DK', 'DE', 'EE', 'IE', 'NO', 'CH', 'IS', 'LI', 'EL', 'ES', 'FR', 'HR', 'IT', 'CY', 'LV', 'LT', 'LU', 'HU', 'MT', 'NL', 'AT', 'PL', 'PT', 'RO', 'SI', 'SK', 'FI', 'SE', 'GB', \n",
    "]\n",
    "\n",
    "df = df[df['Country_code'].isin(europe_country_codes)]\n",
    "\n",
    "\n",
    "dtale.show(df)"
   ]
  }
 ],
 "metadata": {
  "kernelspec": {
   "display_name": "Python 3",
   "language": "python",
   "name": "python3"
  },
  "language_info": {
   "codemirror_mode": {
    "name": "ipython",
    "version": 3
   },
   "file_extension": ".py",
   "mimetype": "text/x-python",
   "name": "python",
   "nbconvert_exporter": "python",
   "pygments_lexer": "ipython3",
   "version": "3.10.13"
  }
 },
 "nbformat": 4,
 "nbformat_minor": 2
}
