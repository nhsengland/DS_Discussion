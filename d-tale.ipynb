{
 "cells": [
  {
   "cell_type": "markdown",
   "metadata": {},
   "source": [
    "# Instructions\n",
    "\n",
    "Once the Codespace has finished setting up:\n",
    "\n",
    "- Click \"Select Kernel\" in the top-right\n",
    "- Click \"Python Environments\" and then \"Python 3.xx.xx\"\n",
    "- Run the cells below\n",
    "- Wait a few seconds for the server to launch\n",
    "- Click the \"Ports\" tab in the panel below (press Ctrl+' if you don't see the panel)\n",
    "- Hover over the row for port 40000, just under the \"Forwarded Address\" header, and click the Globe \"Open in Browser\" icon\n",
    "- D-Tale should open in a new browser tab"
   ]
  },
  {
   "cell_type": "code",
   "execution_count": 8,
   "metadata": {},
   "outputs": [
    {
     "name": "stdout",
     "output_type": "stream",
     "text": [
      "\n",
      "\u001b[1m[\u001b[0m\u001b[34;49mnotice\u001b[0m\u001b[1;39;49m]\u001b[0m\u001b[39;49m A new release of pip is available: \u001b[0m\u001b[31;49m24.1.2\u001b[0m\u001b[39;49m -> \u001b[0m\u001b[32;49m24.2\u001b[0m\n",
      "\u001b[1m[\u001b[0m\u001b[34;49mnotice\u001b[0m\u001b[1;39;49m]\u001b[0m\u001b[39;49m To update, run: \u001b[0m\u001b[32;49mpython3 -m pip install --upgrade pip\u001b[0m\n"
     ]
    }
   ],
   "source": [
    "! pip install dtale -q"
   ]
  },
  {
   "cell_type": "code",
   "execution_count": 12,
   "metadata": {},
   "outputs": [
    {
     "data": {
      "text/html": [
       "\n",
       "        <iframe\n",
       "            width=\"100%\"\n",
       "            height=\"475\"\n",
       "            src=\"http://0.0.0.0:40000/dtale/iframe/7\"\n",
       "            frameborder=\"0\"\n",
       "            allowfullscreen\n",
       "            \n",
       "        ></iframe>\n",
       "        "
      ],
      "text/plain": [
       "<IPython.lib.display.IFrame at 0x78e248126e30>"
      ]
     },
     "metadata": {},
     "output_type": "display_data"
    },
    {
     "data": {
      "text/plain": []
     },
     "execution_count": 12,
     "metadata": {},
     "output_type": "execute_result"
    }
   ],
   "source": [
    "import dtale\n",
    "import pandas as pd\n",
    "import dtale.app as dtale_app\n",
    "\n",
    "url = \"https://srhdpeuwpubsa.blob.core.windows.net/whdh/COVID/WHO-COVID-19-global-data.csv\"\n",
    "df = pd.read_csv(url)\n",
    "dtale_app.USE_COLAB = True\n",
    "\n",
    "europe_country_codes = [\n",
    "    'BE', 'BG', 'CZ', 'DK', 'DE', 'EE', 'IE', 'NO', 'CH', 'IS', 'LI', 'EL', 'ES', 'FR', 'HR', 'IT', 'CY', 'LV', 'LT', 'LU', 'HU', 'MT', 'NL', 'AT', 'PL', 'PT', 'RO', 'SI', 'SK', 'FI', 'SE', 'GB', \n",
    "]\n",
    "\n",
    "df = df[df['Country_code'].isin(europe_country_codes)]\n",
    "\n",
    "\n",
    "dtale.show(df)"
   ]
  }
 ],
 "metadata": {
  "kernelspec": {
   "display_name": "Python 3",
   "language": "python",
   "name": "python3"
  },
  "language_info": {
   "codemirror_mode": {
    "name": "ipython",
    "version": 3
   },
   "file_extension": ".py",
   "mimetype": "text/x-python",
   "name": "python",
   "nbconvert_exporter": "python",
   "pygments_lexer": "ipython3",
   "version": "3.10.13"
  }
 },
 "nbformat": 4,
 "nbformat_minor": 2
}
